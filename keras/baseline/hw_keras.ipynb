{
  "nbformat": 4,
  "nbformat_minor": 0,
  "metadata": {
    "kernelspec": {
      "display_name": "venv-lab",
      "language": "python",
      "name": "venv-lab"
    },
    "language_info": {
      "codemirror_mode": {
        "name": "ipython",
        "version": 3
      },
      "file_extension": ".py",
      "mimetype": "text/x-python",
      "name": "python",
      "nbconvert_exporter": "python",
      "pygments_lexer": "ipython3",
      "version": "3.6.9"
    },
    "colab": {
      "name": "hw-keras.ipynb",
      "provenance": []
    },
    "accelerator": "GPU"
  },
  "cells": [
    {
      "cell_type": "code",
      "metadata": {
        "id": "QyFxkPUtsWkT",
        "colab_type": "code",
        "outputId": "833c2188-8b8a-4620-c8a2-fa86c147d192",
        "colab": {
          "base_uri": "https://localhost:8080/"
        }
      },
      "source": [
        "%tensorflow_version 2.x\n",
        "import tensorflow\n",
        "import tensorflow.keras as keras\n",
        "import tensorflow.keras.utils\n",
        "from tensorflow.keras.layers import LSTM, Input, Dense, TimeDistributed, Masking, Bidirectional\n",
        "from tensorflow.keras.models import Model"
      ],
      "execution_count": 0,
      "outputs": [
        {
          "output_type": "stream",
          "text": [
            "TensorFlow 2.x selected.\n"
          ],
          "name": "stdout"
        }
      ]
    },
    {
      "cell_type": "code",
      "metadata": {
        "id": "wzRrBb-rsWk8",
        "colab_type": "code",
        "outputId": "e4000673-ac88-4003-bb5f-a40d2698004e",
        "colab": {
          "base_uri": "https://localhost:8080/"
        }
      },
      "source": [
        "tensorflow.__version__"
      ],
      "execution_count": 0,
      "outputs": [
        {
          "output_type": "execute_result",
          "data": {
            "text/plain": [
              "'2.1.0'"
            ]
          },
          "metadata": {
            "tags": []
          },
          "execution_count": 2
        }
      ]
    },
    {
      "cell_type": "markdown",
      "metadata": {
        "id": "WbATuk7PsWlc",
        "colab_type": "text"
      },
      "source": [
        "# General"
      ]
    },
    {
      "cell_type": "code",
      "metadata": {
        "id": "Y27n5SYLsWlk",
        "colab_type": "code",
        "colab": {}
      },
      "source": [
        "alphabet = list(\"0123456789abcdefghijklmnopqrstuvwxyzABCDEFGHIJKLMNOPQRSTUVWXYZ'.,-()/\") # %:;&#\n",
        "alphabet.insert(0, chr(0)) # '\\x00' character, i.e., ord(0) to label concatenate"
      ],
      "execution_count": 0,
      "outputs": []
    },
    {
      "cell_type": "markdown",
      "metadata": {
        "id": "691dnezisWl5",
        "colab_type": "text"
      },
      "source": [
        "# Model"
      ]
    },
    {
      "cell_type": "code",
      "metadata": {
        "id": "TVBEBnbGsWl_",
        "colab_type": "code",
        "colab": {}
      },
      "source": [
        "timesteps = None\n",
        "input_features = 3\n",
        "lstm_output = 512\n",
        "alphabet_output_size = len(alphabet)\n",
        "eoc_output_size = 1\n",
        "bow_output_isze = 1"
      ],
      "execution_count": 0,
      "outputs": []
    },
    {
      "cell_type": "code",
      "metadata": {
        "id": "kc3Y_sPBsWmV",
        "colab_type": "code",
        "colab": {}
      },
      "source": [
        "lstm_input = Input(shape=(timesteps, input_features), name='stroke_input')\n",
        "masking_layer =  Masking(mask_value=0., input_shape=(timesteps, input_features))(lstm_input)\n",
        "lstm_layer = Bidirectional(LSTM(lstm_output, return_sequences=True))(masking_layer)\n",
        "\n",
        "alphabet_output = TimeDistributed(Dense(alphabet_output_size, activation='softmax'), name='alphabet_output')(lstm_layer)\n",
        "eoc_output = TimeDistributed(Dense(eoc_output_size, activation='sigmoid'), name='eoc_output')(lstm_layer)\n",
        "bow_output = TimeDistributed(Dense(bow_output_isze, activation='sigmoid'), name='bow_output')(lstm_layer)"
      ],
      "execution_count": 0,
      "outputs": []
    },
    {
      "cell_type": "code",
      "metadata": {
        "id": "V5yrKP1ysWmo",
        "colab_type": "code",
        "colab": {}
      },
      "source": [
        "losses ={\n",
        "    'alphabet_output': 'sparse_categorical_crossentropy',\n",
        "    'eoc_output' : 'mean_squared_error',\n",
        "    'bow_output' : 'mean_squared_error'\n",
        "}"
      ],
      "execution_count": 0,
      "outputs": []
    },
    {
      "cell_type": "code",
      "metadata": {
        "id": "ajVvnv0TsWm5",
        "colab_type": "code",
        "colab": {}
      },
      "source": [
        "model = Model(inputs=[lstm_input], outputs=[alphabet_output, eoc_output, bow_output])\n",
        "model.compile(loss=losses, optimizer='adam', metrics=['accuracy'])"
      ],
      "execution_count": 0,
      "outputs": []
    },
    {
      "cell_type": "markdown",
      "metadata": {
        "id": "dp-EAxBlsWnM",
        "colab_type": "text"
      },
      "source": [
        "# Preprocessing"
      ]
    },
    {
      "cell_type": "code",
      "metadata": {
        "id": "hQMW1cWwubsA",
        "colab_type": "code",
        "outputId": "a7d27767-8f30-4c9d-ce3e-72c5e6a73f7d",
        "colab": {
          "base_uri": "https://localhost:8080/"
        }
      },
      "source": [
        "!ls"
      ],
      "execution_count": 0,
      "outputs": [
        {
          "output_type": "stream",
          "text": [
            "sample_data\n"
          ],
          "name": "stdout"
        }
      ]
    },
    {
      "cell_type": "code",
      "metadata": {
        "id": "2uWNQJu5sWnU",
        "colab_type": "code",
        "colab": {}
      },
      "source": [
        "import numpy as np"
      ],
      "execution_count": 0,
      "outputs": []
    },
    {
      "cell_type": "code",
      "metadata": {
        "id": "K87EsyLYywMm",
        "colab_type": "code",
        "outputId": "5f241d33-177a-48c6-ad38-51bfa266b387",
        "colab": {
          "base_uri": "https://localhost:8080/"
        }
      },
      "source": [
        "from google.colab import drive\n",
        "drive.mount('/content/drive')"
      ],
      "execution_count": 0,
      "outputs": [
        {
          "output_type": "error",
          "ename": "TypeError",
          "evalue": "ignored",
          "traceback": [
            "\u001b[0;31m---------------------------------------------------------------------------\u001b[0m",
            "\u001b[0;31mTypeError\u001b[0m                                 Traceback (most recent call last)",
            "\u001b[0;32m<ipython-input-10-d5df0069828e>\u001b[0m in \u001b[0;36m<module>\u001b[0;34m()\u001b[0m\n\u001b[1;32m      1\u001b[0m \u001b[0;32mfrom\u001b[0m \u001b[0mgoogle\u001b[0m\u001b[0;34m.\u001b[0m\u001b[0mcolab\u001b[0m \u001b[0;32mimport\u001b[0m \u001b[0mdrive\u001b[0m\u001b[0;34m\u001b[0m\u001b[0;34m\u001b[0m\u001b[0m\n\u001b[0;32m----> 2\u001b[0;31m \u001b[0mdrive\u001b[0m\u001b[0;34m.\u001b[0m\u001b[0mmount\u001b[0m\u001b[0;34m(\u001b[0m\u001b[0;34m'/content/drive'\u001b[0m\u001b[0;34m)\u001b[0m\u001b[0;34m\u001b[0m\u001b[0;34m\u001b[0m\u001b[0m\n\u001b[0m",
            "\u001b[0;32m/usr/local/lib/python3.6/dist-packages/google/colab/drive.py\u001b[0m in \u001b[0;36mmount\u001b[0;34m(mountpoint, force_remount, timeout_ms, use_metadata_server)\u001b[0m\n\u001b[1;32m    236\u001b[0m       \u001b[0mauth_prompt\u001b[0m \u001b[0;34m=\u001b[0m \u001b[0md\u001b[0m\u001b[0;34m.\u001b[0m\u001b[0mmatch\u001b[0m\u001b[0;34m.\u001b[0m\u001b[0mgroup\u001b[0m\u001b[0;34m(\u001b[0m\u001b[0;36m1\u001b[0m\u001b[0;34m)\u001b[0m \u001b[0;34m+\u001b[0m \u001b[0;34m'\\nEnter your authorization code:\\n'\u001b[0m\u001b[0;34m\u001b[0m\u001b[0;34m\u001b[0m\u001b[0m\n\u001b[1;32m    237\u001b[0m       \u001b[0;32mwith\u001b[0m \u001b[0mopen\u001b[0m\u001b[0;34m(\u001b[0m\u001b[0mfifo\u001b[0m\u001b[0;34m,\u001b[0m \u001b[0;34m'w'\u001b[0m\u001b[0;34m)\u001b[0m \u001b[0;32mas\u001b[0m \u001b[0mfifo_file\u001b[0m\u001b[0;34m:\u001b[0m\u001b[0;34m\u001b[0m\u001b[0;34m\u001b[0m\u001b[0m\n\u001b[0;32m--> 238\u001b[0;31m         \u001b[0mfifo_file\u001b[0m\u001b[0;34m.\u001b[0m\u001b[0mwrite\u001b[0m\u001b[0;34m(\u001b[0m\u001b[0m_getpass\u001b[0m\u001b[0;34m.\u001b[0m\u001b[0mgetpass\u001b[0m\u001b[0;34m(\u001b[0m\u001b[0mauth_prompt\u001b[0m\u001b[0;34m)\u001b[0m \u001b[0;34m+\u001b[0m \u001b[0;34m'\\n'\u001b[0m\u001b[0;34m)\u001b[0m\u001b[0;34m\u001b[0m\u001b[0;34m\u001b[0m\u001b[0m\n\u001b[0m\u001b[1;32m    239\u001b[0m       \u001b[0mwrote_to_fifo\u001b[0m \u001b[0;34m=\u001b[0m \u001b[0;32mTrue\u001b[0m\u001b[0;34m\u001b[0m\u001b[0;34m\u001b[0m\u001b[0m\n\u001b[1;32m    240\u001b[0m   \u001b[0;32mif\u001b[0m \u001b[0;32mnot\u001b[0m \u001b[0mwrote_to_fifo\u001b[0m\u001b[0;34m:\u001b[0m\u001b[0;34m\u001b[0m\u001b[0;34m\u001b[0m\u001b[0m\n",
            "\u001b[0;31mTypeError\u001b[0m: unsupported operand type(s) for +: 'dict' and 'str'"
          ]
        }
      ]
    },
    {
      "cell_type": "code",
      "metadata": {
        "id": "hZG6URIrsWnm",
        "colab_type": "code",
        "colab": {}
      },
      "source": [
        "training_dataset = np.load('/content/drive/My Drive/deepwriting/deepwriting_training.npz', allow_pickle=True)\n",
        "validation_dataset = np.load('/content/drive/My Drive/deepwriting/deepwriting_validation.npz', allow_pickle=True)"
      ],
      "execution_count": 0,
      "outputs": []
    },
    {
      "cell_type": "code",
      "metadata": {
        "id": "XdI2krCRsWn2",
        "colab_type": "code",
        "colab": {}
      },
      "source": [
        "list(training_dataset.keys())"
      ],
      "execution_count": 0,
      "outputs": []
    },
    {
      "cell_type": "code",
      "metadata": {
        "id": "MIuoUKB2sWoL",
        "colab_type": "code",
        "colab": {}
      },
      "source": [
        "def pad_to_length(sequences, max_len, two_dimensional=True):\n",
        "    padded_sequence = []\n",
        "    for seq in sequences:\n",
        "        pad_len = max_len - len(seq)\n",
        "        if two_dimensional:\n",
        "            padded_seq = np.pad(seq, [(0, pad_len), (0, 0)], mode='constant', constant_values=0)\n",
        "        else:\n",
        "            padded_seq = np.pad(seq, (0, pad_len), mode='constant', constant_values=0)\n",
        "            padded_seq = np.expand_dims(padded_seq, axis=1)\n",
        "        padded_sequence.append(padded_seq)\n",
        "    # check whether all lists have actually the same length\n",
        "    assert len(list(filter(lambda x: x != max_len, [len(seq) for seq in padded_sequence]))) == 0\n",
        "    return np.array(padded_sequence)"
      ],
      "execution_count": 0,
      "outputs": []
    },
    {
      "cell_type": "code",
      "metadata": {
        "id": "eCI9kUL6sWoa",
        "colab_type": "code",
        "colab": {}
      },
      "source": [
        "def check_lengths(seq, max_len):\n",
        "    other_max_length = len(max(seq, key=len))\n",
        "    assert other_max_length == max_len"
      ],
      "execution_count": 0,
      "outputs": []
    },
    {
      "cell_type": "markdown",
      "metadata": {
        "id": "W9VNWinMsWoq",
        "colab_type": "text"
      },
      "source": [
        "## Pad Training input"
      ]
    },
    {
      "cell_type": "code",
      "metadata": {
        "id": "fAdTFPCSsWou",
        "colab_type": "code",
        "colab": {}
      },
      "source": [
        "max_len_training = len(max(training_dataset['strokes'], key=len))\n",
        "max_len_validation = len(max(validation_dataset['strokes'], key=len))"
      ],
      "execution_count": 0,
      "outputs": []
    },
    {
      "cell_type": "code",
      "metadata": {
        "id": "jZ5xdfgasWo8",
        "colab_type": "code",
        "colab": {}
      },
      "source": [
        "training_input_padded = pad_to_length(training_dataset['strokes'], max_len_training)\n",
        "validation_input_padded = pad_to_length(validation_dataset['strokes'], max_len_validation)"
      ],
      "execution_count": 0,
      "outputs": []
    },
    {
      "cell_type": "markdown",
      "metadata": {
        "id": "oLTRJ7e4sWpH",
        "colab_type": "text"
      },
      "source": [
        "## Pad char labels"
      ]
    },
    {
      "cell_type": "code",
      "metadata": {
        "id": "GNnZYnlssWpM",
        "colab_type": "code",
        "colab": {}
      },
      "source": [
        "check_lengths(training_dataset['char_labels'], max_len_training)\n",
        "check_lengths(validation_dataset['char_labels'], max_len_validation)"
      ],
      "execution_count": 0,
      "outputs": []
    },
    {
      "cell_type": "code",
      "metadata": {
        "id": "Ba5GJMensWpV",
        "colab_type": "code",
        "colab": {}
      },
      "source": [
        "training_char_labels_padded = pad_to_length(training_dataset['char_labels'], max_len_training, False)\n",
        "validation_char_labels_padded = pad_to_length(validation_dataset['char_labels'], max_len_validation, False)"
      ],
      "execution_count": 0,
      "outputs": []
    },
    {
      "cell_type": "code",
      "metadata": {
        "id": "Mwlh1HtHsWpj",
        "colab_type": "code",
        "colab": {}
      },
      "source": [
        "classes = len(training_dataset['alphabet'])\n",
        "#char_labels_padded = tensorflow.keras.utils.to_categorical(char_labels_padded, num_classes=classes)"
      ],
      "execution_count": 0,
      "outputs": []
    },
    {
      "cell_type": "markdown",
      "metadata": {
        "id": "EQWWV2aksWpv",
        "colab_type": "text"
      },
      "source": [
        "## Pad EOC labels"
      ]
    },
    {
      "cell_type": "code",
      "metadata": {
        "id": "kEyOMMFEsWpy",
        "colab_type": "code",
        "colab": {}
      },
      "source": [
        "check_lengths(training_dataset['eoc_labels'], max_len_training)\n",
        "check_lengths(validation_dataset['eoc_labels'], max_len_validation)"
      ],
      "execution_count": 0,
      "outputs": []
    },
    {
      "cell_type": "code",
      "metadata": {
        "id": "LsiSxMz0sWp-",
        "colab_type": "code",
        "colab": {}
      },
      "source": [
        "training_eoc_labels_padded = pad_to_length(training_dataset['eoc_labels'], max_len_training, False)\n",
        "validation_eoc_labels_padded = pad_to_length(validation_dataset['eoc_labels'], max_len_validation, False)"
      ],
      "execution_count": 0,
      "outputs": []
    },
    {
      "cell_type": "markdown",
      "metadata": {
        "id": "7YF1oHQZsWqX",
        "colab_type": "text"
      },
      "source": [
        "## Pad BOW labels"
      ]
    },
    {
      "cell_type": "code",
      "metadata": {
        "id": "lc_Tplg4sWqZ",
        "colab_type": "code",
        "colab": {}
      },
      "source": [
        "check_lengths(training_dataset['soc_labels'], max_len_training)\n",
        "check_lengths(validation_dataset['soc_labels'], max_len_validation)"
      ],
      "execution_count": 0,
      "outputs": []
    },
    {
      "cell_type": "code",
      "metadata": {
        "id": "PWoybdBnsWqm",
        "colab_type": "code",
        "colab": {}
      },
      "source": [
        "training_soc_labels_padded = pad_to_length(training_dataset['soc_labels'], max_len_training, False)\n",
        "validation_soc_labels_padded = pad_to_length(validation_dataset['soc_labels'], max_len_validation, False)"
      ],
      "execution_count": 0,
      "outputs": []
    },
    {
      "cell_type": "markdown",
      "metadata": {
        "id": "4XjfDWcOsWqw",
        "colab_type": "text"
      },
      "source": [
        "# Training"
      ]
    },
    {
      "cell_type": "code",
      "metadata": {
        "id": "0SpbfdhFejof",
        "colab_type": "code",
        "colab": {}
      },
      "source": [
        "from tensorflow.keras.callbacks import ModelCheckpoint, EarlyStopping, ReduceLROnPlateau"
      ],
      "execution_count": 0,
      "outputs": []
    },
    {
      "cell_type": "code",
      "metadata": {
        "id": "SPf6VLQee9DL",
        "colab_type": "code",
        "colab": {}
      },
      "source": [
        "monitor = 'val_alphabet_output_accuracy'\n",
        "mode='max'\n",
        "\n",
        "modelCheckpoint = ModelCheckpoint('./best_model.hdf5', monitor=monitor, save_best_only='True', mode=mode)\n",
        "earlyStopping = EarlyStopping(monitor=monitor, patience=10, mode=mode)\n",
        "reduceLROnPlateau = ReduceLROnPlateau(monitor=monitor, factor=0.1, patience=4, mode=mode)"
      ],
      "execution_count": 0,
      "outputs": []
    },
    {
      "cell_type": "code",
      "metadata": {
        "id": "HDkOz0OHsWq0",
        "colab_type": "code",
        "colab": {}
      },
      "source": [
        "model.fit(\n",
        "    {\n",
        "        'stroke_input': training_input_padded\n",
        "    },\n",
        "    {\n",
        "        'alphabet_output': training_char_labels_padded,\n",
        "        'eoc_output': training_eoc_labels_padded,\n",
        "        'bow_output': training_soc_labels_padded\n",
        "    },\n",
        "    callbacks=[modelCheckpoint, earlyStopping, reduceLROnPlateau],\n",
        "    epochs=100,\n",
        "    validation_data=(\n",
        "        {\n",
        "            'stroke_input': validation_input_padded\n",
        "        },\n",
        "        {\n",
        "            'alphabet_output': validation_char_labels_padded,\n",
        "            'eoc_output': validation_eoc_labels_padded,\n",
        "            'bow_output': validation_soc_labels_padded\n",
        "        }\n",
        "    )\n",
        ")"
      ],
      "execution_count": 0,
      "outputs": []
    },
    {
      "cell_type": "code",
      "metadata": {
        "id": "qc_YuUVUsWq-",
        "colab_type": "code",
        "colab": {}
      },
      "source": [
        "training_dataset['strokes']"
      ],
      "execution_count": 0,
      "outputs": []
    },
    {
      "cell_type": "code",
      "metadata": {
        "id": "xfRYBXYc3GQ6",
        "colab_type": "code",
        "colab": {}
      },
      "source": [
        ""
      ],
      "execution_count": 0,
      "outputs": []
    }
  ]
}