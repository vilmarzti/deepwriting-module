{
 "cells": [
  {
   "cell_type": "code",
   "execution_count": 54,
   "metadata": {
    "id": "QyFxkPUtsWkT"
   },
   "outputs": [],
   "source": [
    "import tensorflow\n",
    "import tensorflow.keras as keras\n",
    "import tensorflow.keras.utils\n",
    "from tensorflow.keras.layers import LSTM, Input, Dense, TimeDistributed, Masking, Bidirectional\n",
    "from tensorflow.keras.models import Model\n",
    "\n",
    "from sklearn.utils import class_weight\n",
    "import numpy as np"
   ]
  },
  {
   "cell_type": "code",
   "execution_count": 55,
   "metadata": {
    "colab": {
     "base_uri": "https://localhost:8080/",
     "height": 35
    },
    "id": "wzRrBb-rsWk8",
    "outputId": "a3081e15-8b8e-4b86-f54c-8cd543064d3b"
   },
   "outputs": [
    {
     "data": {
      "text/plain": [
       "'2.3.0'"
      ]
     },
     "execution_count": 55,
     "metadata": {},
     "output_type": "execute_result"
    }
   ],
   "source": [
    "tensorflow.__version__"
   ]
  },
  {
   "cell_type": "code",
   "execution_count": 56,
   "metadata": {},
   "outputs": [
    {
     "data": {
      "text/plain": [
       "True"
      ]
     },
     "execution_count": 56,
     "metadata": {},
     "output_type": "execute_result"
    }
   ],
   "source": [
    "tensorflow.test.is_gpu_available()"
   ]
  },
  {
   "cell_type": "markdown",
   "metadata": {
    "id": "WbATuk7PsWlc"
   },
   "source": [
    "# General"
   ]
  },
  {
   "cell_type": "code",
   "execution_count": 57,
   "metadata": {
    "id": "Y27n5SYLsWlk"
   },
   "outputs": [],
   "source": [
    "alphabet = list(\"0123456789abcdefghijklmnopqrstuvwxyzABCDEFGHIJKLMNOPQRSTUVWXYZ'.,-()/\") # %:;&#\n",
    "alphabet.insert(0, chr(0)) # '\\x00' character, i.e., ord(0) to label concatenate"
   ]
  },
  {
   "cell_type": "markdown",
   "metadata": {
    "id": "691dnezisWl5"
   },
   "source": [
    "# Model"
   ]
  },
  {
   "cell_type": "code",
   "execution_count": 100,
   "metadata": {
    "id": "TVBEBnbGsWl_"
   },
   "outputs": [],
   "source": [
    "timesteps = None\n",
    "input_features = 3\n",
    "lstm_output = 512\n",
    "\n",
    "input_layer_size = [256]\n",
    "output_layer_size = [256]\n",
    "\n",
    "alphabet_output_size = len(alphabet)\n",
    "eoc_output_size = 1\n",
    "eow_output_isze = 1\n",
    "stack_height = 4"
   ]
  },
  {
   "cell_type": "code",
   "execution_count": 101,
   "metadata": {
    "colab": {
     "base_uri": "https://localhost:8080/",
     "height": 245
    },
    "id": "kc3Y_sPBsWmV",
    "outputId": "20e07632-571a-4302-e8b1-f815fcdbf390"
   },
   "outputs": [],
   "source": [
    "model_input = Input(shape=(timesteps, input_features), name='stroke_input')\n",
    "\n",
    "masking_layer =  Masking(mask_value=0., input_shape=(timesteps, input_features))(model_input)\n",
    "\n",
    "input_layer = masking_layer\n",
    "for i in input_layer_size:\n",
    "  input_layer = TimeDistributed(Dense(i, activation='relu'))(input_layer)\n",
    "\n",
    "lstm_layer = input_layer\n",
    "for i in range(stack_height):\n",
    "  lstm_layer = Bidirectional(LSTM(lstm_output, return_sequences=True, activation=\"tanh\"))(lstm_layer)\n",
    "\n",
    "output_layer = lstm_layer\n",
    "for i in output_layer_size:\n",
    "  output_layer = TimeDistributed(Dense(i, activation='relu'))(output_layer)\n",
    "\n",
    "alphabet_output = TimeDistributed(Dense(alphabet_output_size, activation='softmax'), name='alphabet_output')(output_layer)\n",
    "eoc_output = TimeDistributed(Dense(eoc_output_size, activation='sigmoid'), name='eoc_output')(output_layer)\n",
    "eow_output = TimeDistributed(Dense(eow_output_isze, activation='sigmoid'), name='eow_output')(output_layer)"
   ]
  },
  {
   "cell_type": "code",
   "execution_count": 102,
   "metadata": {
    "id": "V5yrKP1ysWmo"
   },
   "outputs": [],
   "source": [
    "losses ={\n",
    "    'alphabet_output': 'sparse_categorical_crossentropy',\n",
    "    'eoc_output' : 'mean_squared_error',\n",
    "    'eow_output' : 'mean_squared_error'\n",
    "}"
   ]
  },
  {
   "cell_type": "code",
   "execution_count": 103,
   "metadata": {
    "id": "ajVvnv0TsWm5"
   },
   "outputs": [],
   "source": [
    "model = Model(inputs=[model_input], outputs=[alphabet_output, eoc_output, eow_output])\n",
    "model.compile(\n",
    "    loss=losses,\n",
    "    optimizer='adam', \n",
    "    metrics=['accuracy'],\n",
    "    loss_weights={\n",
    "        'alphabet_output': 10.0,\n",
    "        'eoc_output': 1.0,\n",
    "        'eow_output': 1.0\n",
    "    },\n",
    ")"
   ]
  },
  {
   "cell_type": "code",
   "execution_count": 104,
   "metadata": {
    "colab": {
     "base_uri": "https://localhost:8080/",
     "height": 538
    },
    "id": "x84Z0McTtjXu",
    "outputId": "b995023b-8022-464b-f4c4-b4093228696b"
   },
   "outputs": [
    {
     "name": "stdout",
     "output_type": "stream",
     "text": [
      "Model: \"functional_9\"\n",
      "__________________________________________________________________________________________________\n",
      "Layer (type)                    Output Shape         Param #     Connected to                     \n",
      "==================================================================================================\n",
      "stroke_input (InputLayer)       [(None, None, 3)]    0                                            \n",
      "__________________________________________________________________________________________________\n",
      "masking_4 (Masking)             (None, None, 3)      0           stroke_input[0][0]               \n",
      "__________________________________________________________________________________________________\n",
      "time_distributed_8 (TimeDistrib (None, None, 256)    1024        masking_4[0][0]                  \n",
      "__________________________________________________________________________________________________\n",
      "bidirectional_16 (Bidirectional (None, None, 1024)   3149824     time_distributed_8[0][0]         \n",
      "__________________________________________________________________________________________________\n",
      "bidirectional_17 (Bidirectional (None, None, 1024)   6295552     bidirectional_16[0][0]           \n",
      "__________________________________________________________________________________________________\n",
      "bidirectional_18 (Bidirectional (None, None, 1024)   6295552     bidirectional_17[0][0]           \n",
      "__________________________________________________________________________________________________\n",
      "bidirectional_19 (Bidirectional (None, None, 1024)   6295552     bidirectional_18[0][0]           \n",
      "__________________________________________________________________________________________________\n",
      "time_distributed_9 (TimeDistrib (None, None, 256)    262400      bidirectional_19[0][0]           \n",
      "__________________________________________________________________________________________________\n",
      "alphabet_output (TimeDistribute (None, None, 70)     17990       time_distributed_9[0][0]         \n",
      "__________________________________________________________________________________________________\n",
      "eoc_output (TimeDistributed)    (None, None, 1)      257         time_distributed_9[0][0]         \n",
      "__________________________________________________________________________________________________\n",
      "eow_output (TimeDistributed)    (None, None, 1)      257         time_distributed_9[0][0]         \n",
      "==================================================================================================\n",
      "Total params: 22,318,408\n",
      "Trainable params: 22,318,408\n",
      "Non-trainable params: 0\n",
      "__________________________________________________________________________________________________\n"
     ]
    }
   ],
   "source": [
    "model.summary()"
   ]
  },
  {
   "cell_type": "markdown",
   "metadata": {
    "id": "dp-EAxBlsWnM"
   },
   "source": [
    "# Preprocessing"
   ]
  },
  {
   "cell_type": "code",
   "execution_count": 105,
   "metadata": {
    "colab": {
     "base_uri": "https://localhost:8080/",
     "height": 34
    },
    "id": "hQMW1cWwubsA",
    "outputId": "d6784a10-ccd3-48ea-d3dc-180613dca51b"
   },
   "outputs": [
    {
     "name": "stdout",
     "output_type": "stream",
     "text": [
      "/home/martin/Documents/code/deepwriting-module/deepreading/baseline_stacked\n"
     ]
    }
   ],
   "source": [
    "is_colab = False\n",
    "!pwd"
   ]
  },
  {
   "cell_type": "code",
   "execution_count": 106,
   "metadata": {
    "id": "2uWNQJu5sWnU"
   },
   "outputs": [],
   "source": [
    "if is_colab:\n",
    "    from google.colab import drive\n",
    "    drive.mount('/content/drive')\n",
    "    training_dataset = np.load('/content/drive/My Drive/deepwriting/deepwriting_training.npz', allow_pickle=True)\n",
    "    validation_dataset = np.load('/content/drive/My Drive/deepwriting/deepwriting_validation.npz', allow_pickle=True)\n",
    "else:\n",
    "    training_dataset = np.load('../../data/dataset/deepwriting_training.npz', allow_pickle=True)\n",
    "    validation_dataset = np.load('../../data/dataset/deepwriting_validation.npz', allow_pickle=True)"
   ]
  },
  {
   "cell_type": "code",
   "execution_count": 107,
   "metadata": {
    "id": "MIuoUKB2sWoL"
   },
   "outputs": [],
   "source": [
    "def pad_to_length(sequences, max_len, two_dimensional=True):\n",
    "    padded_sequence = []\n",
    "    for seq in sequences:\n",
    "        pad_len = max_len - len(seq)\n",
    "        if two_dimensional:\n",
    "            padded_seq = np.pad(seq, [(0, pad_len), (0, 0)], mode='constant', constant_values=0)\n",
    "        else:\n",
    "            padded_seq = np.pad(seq, (0, pad_len), mode='constant', constant_values=0)\n",
    "            padded_seq = np.expand_dims(padded_seq, axis=1)\n",
    "        padded_sequence.append(padded_seq)\n",
    "    # check whether all lists have actually the same length\n",
    "    assert len(list(filter(lambda x: x != max_len, [len(seq) for seq in padded_sequence]))) == 0\n",
    "    return np.array(padded_sequence)"
   ]
  },
  {
   "cell_type": "code",
   "execution_count": 108,
   "metadata": {
    "id": "eCI9kUL6sWoa"
   },
   "outputs": [],
   "source": [
    "def check_lengths(seq, max_len):\n",
    "    other_max_length = len(max(seq, key=len))\n",
    "    assert other_max_length == max_len"
   ]
  },
  {
   "cell_type": "markdown",
   "metadata": {
    "id": "W9VNWinMsWoq"
   },
   "source": [
    "## Pad Training input"
   ]
  },
  {
   "cell_type": "code",
   "execution_count": 109,
   "metadata": {
    "id": "fAdTFPCSsWou"
   },
   "outputs": [],
   "source": [
    "max_len_training = len(max(training_dataset['strokes'], key=len))\n",
    "max_len_validation = len(max(validation_dataset['strokes'], key=len))"
   ]
  },
  {
   "cell_type": "code",
   "execution_count": 110,
   "metadata": {
    "id": "jZ5xdfgasWo8"
   },
   "outputs": [],
   "source": [
    "training_input_padded = pad_to_length(training_dataset['strokes'], max_len_training)\n",
    "validation_input_padded = pad_to_length(validation_dataset['strokes'], max_len_validation)"
   ]
  },
  {
   "cell_type": "markdown",
   "metadata": {
    "id": "oLTRJ7e4sWpH"
   },
   "source": [
    "## Pad char labels"
   ]
  },
  {
   "cell_type": "code",
   "execution_count": 111,
   "metadata": {
    "id": "GNnZYnlssWpM"
   },
   "outputs": [],
   "source": [
    "check_lengths(training_dataset['char_labels'], max_len_training)\n",
    "check_lengths(validation_dataset['char_labels'], max_len_validation)"
   ]
  },
  {
   "cell_type": "code",
   "execution_count": 112,
   "metadata": {
    "id": "Ba5GJMensWpV"
   },
   "outputs": [],
   "source": [
    "training_char_labels_padded = pad_to_length(training_dataset['char_labels'], max_len_training, False)\n",
    "validation_char_labels_padded = pad_to_length(validation_dataset['char_labels'], max_len_validation, False)"
   ]
  },
  {
   "cell_type": "code",
   "execution_count": 113,
   "metadata": {
    "id": "Mwlh1HtHsWpj"
   },
   "outputs": [],
   "source": [
    "classes = len(training_dataset['alphabet'])\n",
    "#char_labels_padded = tensorflow.keras.utils.to_categorical(char_labels_padded, num_classes=classes)"
   ]
  },
  {
   "cell_type": "markdown",
   "metadata": {
    "id": "EQWWV2aksWpv"
   },
   "source": [
    "## Pad EOC labels"
   ]
  },
  {
   "cell_type": "code",
   "execution_count": 114,
   "metadata": {
    "id": "kEyOMMFEsWpy"
   },
   "outputs": [],
   "source": [
    "check_lengths(training_dataset['eoc_labels'], max_len_training)\n",
    "check_lengths(validation_dataset['eoc_labels'], max_len_validation)"
   ]
  },
  {
   "cell_type": "code",
   "execution_count": 115,
   "metadata": {
    "id": "LsiSxMz0sWp-"
   },
   "outputs": [],
   "source": [
    "training_eoc_labels_padded = pad_to_length(training_dataset['eoc_labels'], max_len_training, False)\n",
    "validation_eoc_labels_padded = pad_to_length(validation_dataset['eoc_labels'], max_len_validation, False)"
   ]
  },
  {
   "cell_type": "code",
   "execution_count": 116,
   "metadata": {
    "id": "lc_Tplg4sWqZ"
   },
   "outputs": [],
   "source": [
    "check_lengths(training_dataset['eow_labels'], max_len_training)\n",
    "check_lengths(validation_dataset['eow_labels'], max_len_validation)"
   ]
  },
  {
   "cell_type": "code",
   "execution_count": 117,
   "metadata": {
    "id": "PWoybdBnsWqm"
   },
   "outputs": [],
   "source": [
    "training_eow_labels_padded = pad_to_length(training_dataset['eow_labels'], max_len_training, False)\n",
    "validation_eow_labels_padded = pad_to_length(validation_dataset['eow_labels'], max_len_validation, False)"
   ]
  },
  {
   "cell_type": "markdown",
   "metadata": {
    "id": "4XjfDWcOsWqw"
   },
   "source": [
    "# Training"
   ]
  },
  {
   "cell_type": "code",
   "execution_count": 118,
   "metadata": {
    "id": "0SpbfdhFejof"
   },
   "outputs": [],
   "source": [
    "from tensorflow.keras.callbacks import ModelCheckpoint, EarlyStopping, ReduceLROnPlateau"
   ]
  },
  {
   "cell_type": "code",
   "execution_count": null,
   "metadata": {
    "id": "0SpbfdhFejof"
   },
   "outputs": [],
   "source": []
  },
  {
   "cell_type": "code",
   "execution_count": 119,
   "metadata": {
    "id": "SPf6VLQee9DL"
   },
   "outputs": [],
   "source": [
    "monitor = 'val_alphabet_output_accuracy'\n",
    "mode='max'\n",
    "\n",
    "modelCheckpoint = ModelCheckpoint('./deepwriting_model.hdf5', monitor=monitor, save_best_only='True', mode=mode)\n",
    "earlyStopping = EarlyStopping(monitor=monitor, patience=10, mode=mode)\n",
    "reduceLROnPlateau = ReduceLROnPlateau(monitor=monitor, factor=0.1, patience=4, mode=mode)"
   ]
  },
  {
   "cell_type": "code",
   "execution_count": null,
   "metadata": {
    "colab": {
     "base_uri": "https://localhost:8080/",
     "height": 851
    },
    "id": "HDkOz0OHsWq0",
    "outputId": "50cd111a-33a8-4141-cb37-7c8af8f354db"
   },
   "outputs": [
    {
     "name": "stdout",
     "output_type": "stream",
     "text": [
      "Epoch 1/100\n",
      "  258/34577 [..............................] - ETA: 1:50:35 - loss: 18.2590 - alphabet_output_loss: 1.8219 - eoc_output_loss: 0.0224 - eow_output_loss: 0.0173 - alphabet_output_accuracy: 0.0797 - eoc_output_accuracy: 0.9594 - eow_output_accuracy: 0.9552"
     ]
    }
   ],
   "source": [
    "model.fit(\n",
    "    {\n",
    "        'stroke_input': training_input_padded\n",
    "    },\n",
    "    {\n",
    "        'alphabet_output': training_char_labels_padded,\n",
    "        'eoc_output': training_eoc_labels_padded,\n",
    "        'eow_output': training_eow_labels_padded\n",
    "    },\n",
    "    callbacks=[modelCheckpoint, earlyStopping, reduceLROnPlateau],\n",
    "    batch_size=1,\n",
    "    epochs=100,\n",
    "    validation_data=(\n",
    "        {\n",
    "            'stroke_input': validation_input_padded\n",
    "        },\n",
    "        {\n",
    "            'alphabet_output': validation_char_labels_padded,\n",
    "            'eoc_output': validation_eoc_labels_padded,\n",
    "            'eow_output': validation_eow_labels_padded\n",
    "        }\n",
    "    )\n",
    ")"
   ]
  },
  {
   "cell_type": "code",
   "execution_count": null,
   "metadata": {
    "id": "qc_YuUVUsWq-"
   },
   "outputs": [],
   "source": [
    "training_dataset['strokes']"
   ]
  },
  {
   "cell_type": "code",
   "execution_count": null,
   "metadata": {
    "id": "xfRYBXYc3GQ6"
   },
   "outputs": [],
   "source": [
    "!cp deepwriting_model.hdf5 ./drive/My\\ Drive/deepwriting/"
   ]
  },
  {
   "cell_type": "code",
   "execution_count": null,
   "metadata": {
    "id": "qcOKWY3YZT7m"
   },
   "outputs": [],
   "source": []
  }
 ],
 "metadata": {
  "accelerator": "GPU",
  "colab": {
   "collapsed_sections": [],
   "name": "hw-keras-deepwriting.ipynb",
   "provenance": []
  },
  "kernelspec": {
   "display_name": "Deepwriting",
   "language": "python",
   "name": "deepwriting"
  },
  "language_info": {
   "codemirror_mode": {
    "name": "ipython",
    "version": 3
   },
   "file_extension": ".py",
   "mimetype": "text/x-python",
   "name": "python",
   "nbconvert_exporter": "python",
   "pygments_lexer": "ipython3",
   "version": "3.8.5"
  }
 },
 "nbformat": 4,
 "nbformat_minor": 4
}
