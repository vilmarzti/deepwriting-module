{
  "nbformat": 4,
  "nbformat_minor": 0,
  "metadata": {
    "kernelspec": {
      "display_name": "venv-lab",
      "language": "python",
      "name": "venv-lab"
    },
    "language_info": {
      "codemirror_mode": {
        "name": "ipython",
        "version": 3
      },
      "file_extension": ".py",
      "mimetype": "text/x-python",
      "name": "python",
      "nbconvert_exporter": "python",
      "pygments_lexer": "ipython3",
      "version": "3.6.9"
    },
    "colab": {
      "name": "hw-keras.ipynb",
      "provenance": [],
      "collapsed_sections": []
    },
    "accelerator": "GPU"
  },
  "cells": [
    {
      "cell_type": "code",
      "metadata": {
        "id": "QyFxkPUtsWkT"
      },
      "source": [
        "%tensorflow_version 2.x\n",
        "import tensorflow\n",
        "import tensorflow.keras as keras\n",
        "import tensorflow.keras.utils\n",
        "from tensorflow.keras.layers import LSTM, Input, Dense, TimeDistributed, Masking, Bidirectional\n",
        "from tensorflow.keras.models import Model"
      ],
      "execution_count": 1,
      "outputs": []
    },
    {
      "cell_type": "code",
      "metadata": {
        "id": "wzRrBb-rsWk8",
        "outputId": "ed7d8bce-cd4d-48e4-c697-c808963435b5",
        "colab": {
          "base_uri": "https://localhost:8080/",
          "height": 35
        }
      },
      "source": [
        "tensorflow.__version__"
      ],
      "execution_count": 2,
      "outputs": [
        {
          "output_type": "execute_result",
          "data": {
            "application/vnd.google.colaboratory.intrinsic+json": {
              "type": "string"
            },
            "text/plain": [
              "'2.3.0'"
            ]
          },
          "metadata": {
            "tags": []
          },
          "execution_count": 2
        }
      ]
    },
    {
      "cell_type": "markdown",
      "metadata": {
        "id": "WbATuk7PsWlc"
      },
      "source": [
        "# General"
      ]
    },
    {
      "cell_type": "code",
      "metadata": {
        "id": "Y27n5SYLsWlk"
      },
      "source": [
        "alphabet = list(\"0123456789abcdefghijklmnopqrstuvwxyzABCDEFGHIJKLMNOPQRSTUVWXYZ'.,-()/\") # %:;&#\n",
        "alphabet.insert(0, chr(0)) # '\\x00' character, i.e., ord(0) to label concatenate"
      ],
      "execution_count": 3,
      "outputs": []
    },
    {
      "cell_type": "markdown",
      "metadata": {
        "id": "691dnezisWl5"
      },
      "source": [
        "# Model"
      ]
    },
    {
      "cell_type": "code",
      "metadata": {
        "id": "TVBEBnbGsWl_"
      },
      "source": [
        "timesteps = None\n",
        "input_features = 3\n",
        "lstm_output = 1024\n",
        "alphabet_output_size = len(alphabet)\n",
        "eoc_output_size = 1\n",
        "eow_output_isze = 1"
      ],
      "execution_count": 4,
      "outputs": []
    },
    {
      "cell_type": "code",
      "metadata": {
        "id": "kc3Y_sPBsWmV"
      },
      "source": [
        "lstm_input = Input(shape=(timesteps, input_features), name='stroke_input')\n",
        "masking_layer =  Masking(mask_value=0., input_shape=(timesteps, input_features))(lstm_input)\n",
        "lstm_layer = Bidirectional(LSTM(lstm_output, return_sequences=True))(masking_layer)\n",
        "\n",
        "alphabet_output = TimeDistributed(Dense(alphabet_output_size, activation='softmax'), name='alphabet_output')(lstm_layer)\n",
        "eoc_output = TimeDistributed(Dense(eoc_output_size, activation='sigmoid'), name='eoc_output')(lstm_layer)\n",
        "eow_output = TimeDistributed(Dense(eow_output_isze, activation='sigmoid'), name='eow_output')(lstm_layer)"
      ],
      "execution_count": 5,
      "outputs": []
    },
    {
      "cell_type": "code",
      "metadata": {
        "id": "V5yrKP1ysWmo"
      },
      "source": [
        "losses ={\n",
        "    'alphabet_output': 'sparse_categorical_crossentropy',\n",
        "    'eoc_output' : 'mean_squared_error',\n",
        "    'eow_output' : 'mean_squared_error'\n",
        "}"
      ],
      "execution_count": 6,
      "outputs": []
    },
    {
      "cell_type": "code",
      "metadata": {
        "id": "ajVvnv0TsWm5"
      },
      "source": [
        "model = Model(inputs=[lstm_input], outputs=[alphabet_output, eoc_output, eow_output])\n",
        "model.compile(loss=losses, optimizer='adam', metrics=['accuracy'])"
      ],
      "execution_count": 7,
      "outputs": []
    },
    {
      "cell_type": "markdown",
      "metadata": {
        "id": "dp-EAxBlsWnM"
      },
      "source": [
        "# Preprocessing"
      ]
    },
    {
      "cell_type": "code",
      "metadata": {
        "id": "hQMW1cWwubsA",
        "outputId": "75550557-899b-4031-c772-8bd0f33351f5",
        "colab": {
          "base_uri": "https://localhost:8080/",
          "height": 34
        }
      },
      "source": [
        "!ls"
      ],
      "execution_count": 8,
      "outputs": [
        {
          "output_type": "stream",
          "text": [
            "best_model.hdf5  drive\tsample_data\n"
          ],
          "name": "stdout"
        }
      ]
    },
    {
      "cell_type": "code",
      "metadata": {
        "id": "2uWNQJu5sWnU"
      },
      "source": [
        "import numpy as np"
      ],
      "execution_count": 9,
      "outputs": []
    },
    {
      "cell_type": "code",
      "metadata": {
        "id": "K87EsyLYywMm",
        "outputId": "89087b9a-c9d7-4b27-c14b-fe890ca3c2ae",
        "colab": {
          "base_uri": "https://localhost:8080/",
          "height": 34
        }
      },
      "source": [
        "from google.colab import drive\n",
        "drive.mount('/content/drive')"
      ],
      "execution_count": 10,
      "outputs": [
        {
          "output_type": "stream",
          "text": [
            "Drive already mounted at /content/drive; to attempt to forcibly remount, call drive.mount(\"/content/drive\", force_remount=True).\n"
          ],
          "name": "stdout"
        }
      ]
    },
    {
      "cell_type": "code",
      "metadata": {
        "id": "hZG6URIrsWnm"
      },
      "source": [
        "training_dataset = np.load('/content/drive/My Drive/deepwriting/deepwriting_training.npz', allow_pickle=True)\n",
        "validation_dataset = np.load('/content/drive/My Drive/deepwriting/deepwriting_validation.npz', allow_pickle=True)"
      ],
      "execution_count": 11,
      "outputs": []
    },
    {
      "cell_type": "code",
      "metadata": {
        "id": "XdI2krCRsWn2"
      },
      "source": [
        "[key for key in training_dataset.keys()]\n",
        "training_dataset['eow_labels']"
      ],
      "execution_count": null,
      "outputs": []
    },
    {
      "cell_type": "code",
      "metadata": {
        "id": "MIuoUKB2sWoL"
      },
      "source": [
        "def pad_to_length(sequences, max_len, two_dimensional=True):\n",
        "    padded_sequence = []\n",
        "    for seq in sequences:\n",
        "        pad_len = max_len - len(seq)\n",
        "        if two_dimensional:\n",
        "            padded_seq = np.pad(seq, [(0, pad_len), (0, 0)], mode='constant', constant_values=0)\n",
        "        else:\n",
        "            padded_seq = np.pad(seq, (0, pad_len), mode='constant', constant_values=0)\n",
        "            padded_seq = np.expand_dims(padded_seq, axis=1)\n",
        "        padded_sequence.append(padded_seq)\n",
        "    # check whether all lists have actually the same length\n",
        "    assert len(list(filter(lambda x: x != max_len, [len(seq) for seq in padded_sequence]))) == 0\n",
        "    return np.array(padded_sequence)"
      ],
      "execution_count": 13,
      "outputs": []
    },
    {
      "cell_type": "code",
      "metadata": {
        "id": "eCI9kUL6sWoa"
      },
      "source": [
        "def check_lengths(seq, max_len):\n",
        "    other_max_length = len(max(seq, key=len))\n",
        "    assert other_max_length == max_len"
      ],
      "execution_count": 14,
      "outputs": []
    },
    {
      "cell_type": "markdown",
      "metadata": {
        "id": "W9VNWinMsWoq"
      },
      "source": [
        "## Pad Training input"
      ]
    },
    {
      "cell_type": "code",
      "metadata": {
        "id": "fAdTFPCSsWou"
      },
      "source": [
        "max_len_training = len(max(training_dataset['strokes'], key=len))\n",
        "max_len_validation = len(max(validation_dataset['strokes'], key=len))"
      ],
      "execution_count": 15,
      "outputs": []
    },
    {
      "cell_type": "code",
      "metadata": {
        "id": "jZ5xdfgasWo8"
      },
      "source": [
        "training_input_padded = pad_to_length(training_dataset['strokes'], max_len_training)\n",
        "validation_input_padded = pad_to_length(validation_dataset['strokes'], max_len_validation)"
      ],
      "execution_count": 16,
      "outputs": []
    },
    {
      "cell_type": "markdown",
      "metadata": {
        "id": "oLTRJ7e4sWpH"
      },
      "source": [
        "## Pad char labels"
      ]
    },
    {
      "cell_type": "code",
      "metadata": {
        "id": "GNnZYnlssWpM"
      },
      "source": [
        "check_lengths(training_dataset['char_labels'], max_len_training)\n",
        "check_lengths(validation_dataset['char_labels'], max_len_validation)"
      ],
      "execution_count": 17,
      "outputs": []
    },
    {
      "cell_type": "code",
      "metadata": {
        "id": "Ba5GJMensWpV"
      },
      "source": [
        "training_char_labels_padded = pad_to_length(training_dataset['char_labels'], max_len_training, False)\n",
        "validation_char_labels_padded = pad_to_length(validation_dataset['char_labels'], max_len_validation, False)"
      ],
      "execution_count": 18,
      "outputs": []
    },
    {
      "cell_type": "code",
      "metadata": {
        "id": "Mwlh1HtHsWpj"
      },
      "source": [
        "classes = len(training_dataset['alphabet'])\n",
        "#char_labels_padded = tensorflow.keras.utils.to_categorical(char_labels_padded, num_classes=classes)"
      ],
      "execution_count": 19,
      "outputs": []
    },
    {
      "cell_type": "markdown",
      "metadata": {
        "id": "EQWWV2aksWpv"
      },
      "source": [
        "## Pad EOC labels"
      ]
    },
    {
      "cell_type": "code",
      "metadata": {
        "id": "kEyOMMFEsWpy"
      },
      "source": [
        "check_lengths(training_dataset['eoc_labels'], max_len_training)\n",
        "check_lengths(validation_dataset['eoc_labels'], max_len_validation)"
      ],
      "execution_count": 20,
      "outputs": []
    },
    {
      "cell_type": "code",
      "metadata": {
        "id": "LsiSxMz0sWp-"
      },
      "source": [
        "training_eoc_labels_padded = pad_to_length(training_dataset['eoc_labels'], max_len_training, False)\n",
        "validation_eoc_labels_padded = pad_to_length(validation_dataset['eoc_labels'], max_len_validation, False)"
      ],
      "execution_count": 21,
      "outputs": []
    },
    {
      "cell_type": "code",
      "metadata": {
        "id": "lc_Tplg4sWqZ"
      },
      "source": [
        "check_lengths(training_dataset['eow_labels'], max_len_training)\n",
        "check_lengths(validation_dataset['eow_labels'], max_len_validation)"
      ],
      "execution_count": 22,
      "outputs": []
    },
    {
      "cell_type": "code",
      "metadata": {
        "id": "PWoybdBnsWqm"
      },
      "source": [
        "training_eow_labels_padded = pad_to_length(training_dataset['eow_labels'], max_len_training, False)\n",
        "validation_eow_labels_padded = pad_to_length(validation_dataset['eow_labels'], max_len_validation, False)"
      ],
      "execution_count": 23,
      "outputs": []
    },
    {
      "cell_type": "markdown",
      "metadata": {
        "id": "4XjfDWcOsWqw"
      },
      "source": [
        "# Training"
      ]
    },
    {
      "cell_type": "code",
      "metadata": {
        "id": "0SpbfdhFejof"
      },
      "source": [
        "from tensorflow.keras.callbacks import ModelCheckpoint, EarlyStopping, ReduceLROnPlateau"
      ],
      "execution_count": 24,
      "outputs": []
    },
    {
      "cell_type": "code",
      "metadata": {
        "id": "SPf6VLQee9DL"
      },
      "source": [
        "monitor = 'val_alphabet_output_accuracy'\n",
        "mode='max'\n",
        "\n",
        "modelCheckpoint = ModelCheckpoint('./best_model.hdf5', monitor=monitor, save_best_only='True', mode=mode)\n",
        "earlyStopping = EarlyStopping(monitor=monitor, patience=10, mode=mode)\n",
        "reduceLROnPlateau = ReduceLROnPlateau(monitor=monitor, factor=0.1, patience=4, mode=mode)"
      ],
      "execution_count": 25,
      "outputs": []
    },
    {
      "cell_type": "code",
      "metadata": {
        "id": "HDkOz0OHsWq0",
        "outputId": "510d2956-f1ae-408a-d7af-8613473dae4c",
        "colab": {
          "base_uri": "https://localhost:8080/",
          "height": 141
        }
      },
      "source": [
        "model.fit(\n",
        "    {\n",
        "        'stroke_input': training_input_padded\n",
        "    },\n",
        "    {\n",
        "        'alphabet_output': training_char_labels_padded,\n",
        "        'eoc_output': training_eoc_labels_padded,\n",
        "        'eow_output': training_eow_labels_padded\n",
        "    },\n",
        "    callbacks=[modelCheckpoint, earlyStopping, reduceLROnPlateau],\n",
        "    epochs=100,\n",
        "    validation_data=(\n",
        "        {\n",
        "            'stroke_input': validation_input_padded\n",
        "        },\n",
        "        {\n",
        "            'alphabet_output': validation_char_labels_padded,\n",
        "            'eoc_output': validation_eoc_labels_padded,\n",
        "            'eow_output': validation_eow_labels_padded\n",
        "        }\n",
        "    )\n",
        ")"
      ],
      "execution_count": null,
      "outputs": [
        {
          "output_type": "stream",
          "text": [
            "Epoch 1/100\n",
            "1081/1081 [==============================] - 237s 220ms/step - loss: 0.8077 - alphabet_output_loss: 0.7933 - eoc_output_loss: 0.0110 - eow_output_loss: 0.0033 - alphabet_output_accuracy: 0.5929 - eoc_output_accuracy: 0.9771 - eow_output_accuracy: 0.9935 - val_loss: 0.3853 - val_alphabet_output_loss: 0.3775 - val_eoc_output_loss: 0.0064 - val_eow_output_loss: 0.0014 - val_alphabet_output_accuracy: 0.8328 - val_eoc_output_accuracy: 0.9876 - val_eow_output_accuracy: 0.9976\n",
            "Epoch 2/100\n",
            "1081/1081 [==============================] - 235s 218ms/step - loss: 0.2629 - alphabet_output_loss: 0.2572 - eoc_output_loss: 0.0048 - eow_output_loss: 9.1957e-04 - alphabet_output_accuracy: 0.8687 - eoc_output_accuracy: 0.9889 - eow_output_accuracy: 0.9980 - val_loss: 0.2722 - val_alphabet_output_loss: 0.2661 - val_eoc_output_loss: 0.0052 - val_eow_output_loss: 9.4353e-04 - val_alphabet_output_accuracy: 0.8804 - val_eoc_output_accuracy: 0.9899 - val_eow_output_accuracy: 0.9982\n",
            "Epoch 3/100\n",
            " 252/1081 [=====>........................] - ETA: 2:58 - loss: 0.2133 - alphabet_output_loss: 0.2082 - eoc_output_loss: 0.0043 - eow_output_loss: 7.2587e-04 - alphabet_output_accuracy: 0.8930 - eoc_output_accuracy: 0.9900 - eow_output_accuracy: 0.9984"
          ],
          "name": "stdout"
        }
      ]
    },
    {
      "cell_type": "code",
      "metadata": {
        "id": "qc_YuUVUsWq-"
      },
      "source": [
        "training_dataset['strokes']"
      ],
      "execution_count": null,
      "outputs": []
    },
    {
      "cell_type": "code",
      "metadata": {
        "id": "xfRYBXYc3GQ6"
      },
      "source": [
        "!cp best_model.hdf5 ./drive/My\\ Drive/deepwriting/"
      ],
      "execution_count": null,
      "outputs": []
    },
    {
      "cell_type": "code",
      "metadata": {
        "id": "qcOKWY3YZT7m"
      },
      "source": [
        ""
      ],
      "execution_count": null,
      "outputs": []
    }
  ]
}